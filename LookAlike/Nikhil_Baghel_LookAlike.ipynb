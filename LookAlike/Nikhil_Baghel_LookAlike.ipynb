{
 "cells": [
  {
   "cell_type": "code",
   "execution_count": 4,
   "metadata": {},
   "outputs": [],
   "source": [
    "from sklearn.metrics.pairwise import cosine_similarity\n",
    "import pandas as pd\n",
    "from sklearn.preprocessing import StandardScaler\n",
    "\n",
    "# Load datasets\n",
    "transactions = pd.read_csv('../data/Transactions.csv')\n",
    "customers = pd.read_csv('../data/Customers.csv')\n",
    "\n",
    "# Merge datasets\n",
    "customer_profile = transactions.groupby('CustomerID').agg({\n",
    "    'TotalValue': 'sum', 'Quantity': 'sum'\n",
    "}).reset_index()\n",
    "\n",
    "# Normalize the data\n",
    "scaler = StandardScaler()\n",
    "customer_profile[['TotalValue', 'Quantity']] = scaler.fit_transform(customer_profile[['TotalValue', 'Quantity']])\n",
    "\n",
    "# Compute similarity\n",
    "similarity_matrix = cosine_similarity(customer_profile[['TotalValue', 'Quantity']])\n",
    "\n",
    "# Find top 3 similar customers\n",
    "lookalike_results = {}\n",
    "for idx, row in enumerate(similarity_matrix):\n",
    "    similar_indices = row.argsort()[::-1][1:4]\n",
    "    similar_customers = customer_profile.iloc[similar_indices]['CustomerID'].tolist()\n",
    "    similar_scores = row[similar_indices]\n",
    "    lookalike_results[customer_profile.iloc[idx]['CustomerID']] = [\n",
    "        (similar_customers[i], round(similar_scores[i], 2)) for i in range(3)\n",
    "    ]\n",
    "\n",
    "# Save results\n",
    "lookalike_df = pd.DataFrame([\n",
    "    {\"cust_id\": k, \"similar_custs\": v} for k, v in lookalike_results.items()\n",
    "])\n",
    "lookalike_df.to_csv('Nikhil_Baghel_Lookalike.csv', index=False)\n"
   ]
  }
 ],
 "metadata": {
  "kernelspec": {
   "display_name": "env",
   "language": "python",
   "name": "python3"
  },
  "language_info": {
   "codemirror_mode": {
    "name": "ipython",
    "version": 3
   },
   "file_extension": ".py",
   "mimetype": "text/x-python",
   "name": "python",
   "nbconvert_exporter": "python",
   "pygments_lexer": "ipython3",
   "version": "3.11.7"
  }
 },
 "nbformat": 4,
 "nbformat_minor": 2
}
